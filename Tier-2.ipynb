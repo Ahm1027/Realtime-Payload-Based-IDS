{
 "cells": [
  {
   "cell_type": "code",
   "execution_count": 1,
   "metadata": {
    "collapsed": true
   },
   "outputs": [],
   "source": [
    "import numpy as np\n",
    "from sklearn.feature_extraction.text import CountVectorizer\n",
    "from sklearn.utils import shuffle\n",
    "import pandas as pd\n",
    "from sklearn.decomposition import PCA\n",
    "import matplotlib.pyplot as plt"
   ]
  },
  {
   "cell_type": "code",
   "execution_count": 2,
   "metadata": {},
   "outputs": [],
   "source": [
    "df = pd.read_csv('http_requests.csv', sep=',', error_bad_lines=False, index_col=False, dtype='unicode')\n",
    "df = shuffle(df)\n",
    "df['payload'] = df['payload'].fillna(0)\n",
    "df['payload'] = df['payload'].apply(lambda x: str(x))\n",
    "df.drop(columns=['index', 'method', 'url', 'protocol', 'userAgent', 'pragma', 'cacheControl', 'accept', 'acceptEncoding', 'acceptCharset', 'acceptLanguage', 'host', 'connection', 'contentLength', 'contentType', 'cookie'], inplace=True)"
   ]
  },
  {
   "cell_type": "code",
   "execution_count": 3,
   "metadata": {},
   "outputs": [],
   "source": [
    "# Function to generate a 255 dim feature vector from 'payload'\n",
    "# Return a list of length 255 with features of payloads mapped to it\n",
    "# Each list index represents an ASCII character and value represents count\n",
    "# q = [4, 5, 2, 6, 12,  ....]\n",
    "\n",
    "\n",
    "def vectorize_payload(payload):\n",
    "    vec_255 = [0]*255\n",
    "    vectorizer = CountVectorizer(analyzer='char', ngram_range=(1, 1))\n",
    "    vectorized = vectorizer.fit_transform([payload])\n",
    "    mapped = list(zip(vectorizer.get_feature_names(), vectorized.sum(0).getA1()))\n",
    "    for x in mapped:\n",
    "        vec_255[ord(x[0])] = x[1]\n",
    "    return vec_255\n"
   ]
  },
  {
   "cell_type": "code",
   "execution_count": 6,
   "metadata": {
    "collapsed": true
   },
   "outputs": [
    {
     "name": "stdout",
     "output_type": "stream",
     "text": [
      "0.10455768859987938\n0.01098367819302445\n0.006383148583841991\n0.005339160200536845\n0.0047624185427026676\n0.0029846853654069802\n0.002743298446938757\n0.0026534564490624203\n0.0022841380316715853\n0.002115370617497743\n0.0016624616382583028\n0.0014812181354289485\n0.0013743141260122303\n0.0010702712346511523\n0.0010256431472531154\n0.0009536531369257867\n0.0008929515519591419\n0.0008529953249946643\n0.0008093897291523206\n0.0007715308350351004\n0.0006927332983509898\n0.0006741828505504683\n0.0006085870864172058\n0.000529991494068448\n0.0005027194477562227\n0.0004508463752157913\n0.00037956849866168204\n0.0003499295537917691\n0.00024904477196630595\n0.00022221487897273895\n0.0002175040000459425\n0.00015688526368854135\n0.00013026931284706116\n0.00012567617668127155\n0.00012057970031200058\n9.678731453538436e-05\n5.139558656946477e-05\n4.414525479325747e-05\n4.3589251092671956e-05\n3.3538974319851636e-05\n1.1601350368352984e-05\n9.873442116561496e-06\n1.0098484929645552e-06\n4.0703821930601057e-10\n9.41409781122703e-18\n1.6103077441312024e-18\n1.1995597288575478e-18\n6.702522226894179e-19\n5.919811462216778e-19\n5.143279607737846e-19\n4.824767534620672e-19\n4.769869241807553e-19\n2.680244722025699e-19\n2.378907878112086e-19\n2.3234399867001793e-19\n2.3170769415491913e-19\n2.1627498432824467e-19\n1.857131459545927e-19\n1.7343902985345956e-19\n1.7154391792579509e-19\n1.4041973653636618e-19\n1.2229122121083965e-19\n9.718263365039559e-20\n9.696987679818776e-20\n8.978978939435913e-20\n8.787379287157953e-20\n8.720410692253778e-20\n8.498103805603037e-20\n8.138031751690003e-20\n6.391967099015943e-20\n6.110769414471431e-20\n5.48373523487992e-20\n4.6657736457654985e-20\n4.1054653135752886e-20\n3.9864578607117955e-20\n3.891444737549043e-20\n3.837721443439945e-20\n3.196000521992615e-20\n2.2154390809490902e-20\n2.0303827311891293e-20\n1.2808084712996606e-20\n1.0664635816357112e-20\n9.430923662046644e-21\n8.609143579968248e-21\n8.519962157645991e-21\n4.889920577250554e-21\n0.0\n0.0\n0.0\n0.0\n0.0\n0.0\n0.0\n0.0\n0.0\n0.0\n0.0\n0.0\n0.0\n0.0\n0.0\n0.0\n0.0\n0.0\n0.0\n0.0\n0.0\n0.0\n0.0\n0.0\n0.0\n0.0\n0.0\n0.0\n0.0\n0.0\n0.0\n0.0\n0.0\n0.0\n0.0\n0.0\n0.0\n0.0\n0.0\n0.0\n0.0\n0.0\n0.0\n0.0\n0.0\n0.0\n0.0\n0.0\n0.0\n0.0\n0.0\n0.0\n0.0\n0.0\n0.0\n0.0\n0.0\n0.0\n0.0\n0.0\n0.0\n0.0\n0.0\n0.0\n0.0\n0.0\n0.0\n0.0\n0.0\n0.0\n0.0\n0.0\n0.0\n0.0\n0.0\n0.0\n0.0\n0.0\n0.0\n0.0\n0.0\n0.0\n0.0\n0.0\n0.0\n0.0\n0.0\n0.0\n0.0\n0.0\n0.0\n0.0\n0.0\n0.0\n0.0\n0.0\n0.0\n0.0\n0.0\n0.0\n0.0\n0.0\n0.0\n0.0\n0.0\n0.0\n0.0\n0.0\n0.0\n0.0\n0.0\n0.0\n0.0\n0.0\n0.0\n0.0\n0.0\n0.0\n0.0\n0.0\n0.0\n0.0\n0.0\n0.0\n0.0\n0.0\n0.0\n0.0\n0.0\n0.0\n0.0\n0.0\n0.0\n0.0\n0.0\n0.0\n0.0\n0.0\n0.0\n0.0\n0.0\n0.0\n0.0\n0.0\n0.0\n0.0\n0.0\n0.0\n0.0\n0.0\n0.0\n0.0\n0.0\n0.0\n0.0\n0.0\n0.0\n0.0\n0.0\n0.0\n0.0\n0.0\n0.0\n0.0\n0.0\n0.0\n0.0\n0.0\n0.0\n"
     ]
    }
   ],
   "source": [
    "# conversion to 256 dimensional vector\n",
    "vectors = np.array(df['payload'].apply(lambda x: vectorize_payload(x)))\n",
    "vectors\n"
   ]
  },
  {
   "cell_type": "code",
   "execution_count": 8,
   "metadata": {
    "collapsed": true
   },
   "outputs": [
    {
     "name": "stdout",
     "output_type": "stream",
     "text": [
      "0.10455768859987938\n0.01098367819302445\n0.006383148583841991\n0.005339160200536845\n0.0047624185427026676\n0.0029846853654069802\n0.002743298446938757\n0.0026534564490624203\n0.0022841380316715853\n0.002115370617497743\n0.0016624616382583028\n0.0014812181354289485\n0.0013743141260122303\n0.0010702712346511523\n0.0010256431472531154\n0.0009536531369257867\n0.0008929515519591419\n0.0008529953249946643\n0.0008093897291523206\n0.0007715308350351004\n0.0006927332983509898\n0.0006741828505504683\n0.0006085870864172058\n0.000529991494068448\n0.0005027194477562227\n0.0004508463752157913\n0.00037956849866168204\n0.0003499295537917691\n0.00024904477196630595\n0.00022221487897273895\n0.0002175040000459425\n0.00015688526368854135\n0.00013026931284706116\n0.00012567617668127155\n0.00012057970031200058\n9.678731453538436e-05\n5.139558656946477e-05\n4.414525479325747e-05\n4.3589251092671956e-05\n3.3538974319851636e-05\n1.1601350368352984e-05\n9.873442116561496e-06\n1.0098484929645552e-06\n4.0703821930601057e-10\n9.41409781122703e-18\n1.6103077441312024e-18\n1.1995597288575478e-18\n6.702522226894179e-19\n5.919811462216778e-19\n5.143279607737846e-19\n4.824767534620672e-19\n4.769869241807553e-19\n2.680244722025699e-19\n2.378907878112086e-19\n2.3234399867001793e-19\n2.3170769415491913e-19\n2.1627498432824467e-19\n1.857131459545927e-19\n1.7343902985345956e-19\n1.7154391792579509e-19\n1.4041973653636618e-19\n1.2229122121083965e-19\n9.718263365039559e-20\n9.696987679818776e-20\n8.978978939435913e-20\n8.787379287157953e-20\n8.720410692253778e-20\n8.498103805603037e-20\n8.138031751690003e-20\n6.391967099015943e-20\n6.110769414471431e-20\n5.48373523487992e-20\n4.6657736457654985e-20\n4.1054653135752886e-20\n3.9864578607117955e-20\n3.891444737549043e-20\n3.837721443439945e-20\n3.196000521992615e-20\n2.2154390809490902e-20\n2.0303827311891293e-20\n1.2808084712996606e-20\n1.0664635816357112e-20\n9.430923662046644e-21\n8.609143579968248e-21\n8.519962157645991e-21\n4.889920577250554e-21\n0.0\n0.0\n0.0\n0.0\n0.0\n0.0\n0.0\n0.0\n0.0\n0.0\n0.0\n0.0\n0.0\n0.0\n0.0\n0.0\n0.0\n0.0\n0.0\n0.0\n0.0\n0.0\n0.0\n0.0\n0.0\n0.0\n0.0\n0.0\n0.0\n0.0\n0.0\n0.0\n0.0\n0.0\n0.0\n0.0\n0.0\n0.0\n0.0\n0.0\n0.0\n0.0\n0.0\n0.0\n0.0\n0.0\n0.0\n0.0\n0.0\n0.0\n0.0\n0.0\n0.0\n0.0\n0.0\n0.0\n0.0\n0.0\n0.0\n0.0\n0.0\n0.0\n0.0\n0.0\n0.0\n0.0\n0.0\n0.0\n0.0\n0.0\n0.0\n0.0\n0.0\n0.0\n0.0\n0.0\n0.0\n0.0\n0.0\n0.0\n0.0\n0.0\n0.0\n0.0\n0.0\n0.0\n0.0\n0.0\n0.0\n0.0\n0.0\n0.0\n0.0\n0.0\n0.0\n0.0\n0.0\n0.0\n0.0\n0.0\n0.0\n0.0\n0.0\n0.0\n0.0\n0.0\n0.0\n0.0\n0.0\n0.0\n0.0\n0.0\n0.0\n0.0\n0.0\n0.0\n0.0\n0.0\n0.0\n0.0\n0.0\n0.0\n0.0\n0.0\n0.0\n0.0\n0.0\n0.0\n0.0\n0.0\n0.0\n0.0\n0.0\n0.0\n0.0\n0.0\n0.0\n0.0\n0.0\n0.0\n0.0\n0.0\n0.0\n0.0\n0.0\n0.0\n0.0\n0.0\n0.0\n0.0\n0.0\n0.0\n0.0\n0.0\n0.0\n0.0\n0.0\n0.0\n0.0\n0.0\n0.0\n0.0\n0.0\n0.0\n0.0\n0.0\n0.0\n0.0\n0.0\n"
     ]
    }
   ],
   "source": [
    "# Function to generate frequency for 255 dim feature vectors\n",
    "# Return a list of length 255 with feature frequencies\n",
    "# Each list index represents an ASCII character and value represents its frequency\n",
    "# q = [0.23, 0, 0, 0.03, 0.42,  ....] = 1\n",
    "\n",
    "\n",
    "def calc_frequency(payloads_vectors):\n",
    "    features_total = 0\n",
    "    for feature in payloads_vectors:\n",
    "        features_total += feature\n",
    "    features_total *= 1.0\n",
    "    payloads_vectors = [(x/features_total) for x in payloads_vectors]\n",
    "    return np.array(payloads_vectors, dtype=np.float16)\n",
    "\n",
    "\n",
    "results = [calc_frequency(x) for x in vectors]\n",
    "features_frequency = np.vstack(results)\n",
    "del results\n"
   ]
  },
  {
   "cell_type": "code",
   "execution_count": 9,
   "metadata": {
    "collapsed": true
   },
   "outputs": [
    {
     "name": "stdout",
     "output_type": "stream",
     "text": [
      "0.10455768859987938\n0.01098367819302445\n0.006383148583841991\n0.005339160200536845\n0.0047624185427026676\n0.0029846853654069802\n0.002743298446938757\n0.0026534564490624203\n0.0022841380316715853\n0.002115370617497743\n0.0016624616382583028\n0.0014812181354289485\n0.0013743141260122303\n0.0010702712346511523\n0.0010256431472531154\n0.0009536531369257867\n0.0008929515519591419\n0.0008529953249946643\n0.0008093897291523206\n0.0007715308350351004\n0.0006927332983509898\n0.0006741828505504683\n0.0006085870864172058\n0.000529991494068448\n0.0005027194477562227\n0.0004508463752157913\n0.00037956849866168204\n0.0003499295537917691\n0.00024904477196630595\n0.00022221487897273895\n0.0002175040000459425\n0.00015688526368854135\n0.00013026931284706116\n0.00012567617668127155\n0.00012057970031200058\n9.678731453538436e-05\n5.139558656946477e-05\n4.414525479325747e-05\n4.3589251092671956e-05\n3.3538974319851636e-05\n1.1601350368352984e-05\n9.873442116561496e-06\n1.0098484929645552e-06\n4.0703821930601057e-10\n9.41409781122703e-18\n1.6103077441312024e-18\n1.1995597288575478e-18\n6.702522226894179e-19\n5.919811462216778e-19\n5.143279607737846e-19\n4.824767534620672e-19\n4.769869241807553e-19\n2.680244722025699e-19\n2.378907878112086e-19\n2.3234399867001793e-19\n2.3170769415491913e-19\n2.1627498432824467e-19\n1.857131459545927e-19\n1.7343902985345956e-19\n1.7154391792579509e-19\n1.4041973653636618e-19\n1.2229122121083965e-19\n9.718263365039559e-20\n9.696987679818776e-20\n8.978978939435913e-20\n8.787379287157953e-20\n8.720410692253778e-20\n8.498103805603037e-20\n8.138031751690003e-20\n6.391967099015943e-20\n6.110769414471431e-20\n5.48373523487992e-20\n4.6657736457654985e-20\n4.1054653135752886e-20\n3.9864578607117955e-20\n3.891444737549043e-20\n3.837721443439945e-20\n3.196000521992615e-20\n2.2154390809490902e-20\n2.0303827311891293e-20\n1.2808084712996606e-20\n1.0664635816357112e-20\n9.430923662046644e-21\n8.609143579968248e-21\n8.519962157645991e-21\n4.889920577250554e-21\n0.0\n0.0\n0.0\n0.0\n0.0\n0.0\n0.0\n0.0\n0.0\n0.0\n0.0\n0.0\n0.0\n0.0\n0.0\n0.0\n0.0\n0.0\n0.0\n0.0\n0.0\n0.0\n0.0\n0.0\n0.0\n0.0\n0.0\n0.0\n0.0\n0.0\n0.0\n0.0\n0.0\n0.0\n0.0\n0.0\n0.0\n0.0\n0.0\n0.0\n0.0\n0.0\n0.0\n0.0\n0.0\n0.0\n0.0\n0.0\n0.0\n0.0\n0.0\n0.0\n0.0\n0.0\n0.0\n0.0\n0.0\n0.0\n0.0\n0.0\n0.0\n0.0\n0.0\n0.0\n0.0\n0.0\n0.0\n0.0\n0.0\n0.0\n0.0\n0.0\n0.0\n0.0\n0.0\n0.0\n0.0\n0.0\n0.0\n0.0\n0.0\n0.0\n0.0\n0.0\n0.0\n0.0\n0.0\n0.0\n0.0\n0.0\n0.0\n0.0\n0.0\n0.0\n0.0\n0.0\n0.0\n0.0\n0.0\n0.0\n0.0\n0.0\n0.0\n0.0\n0.0\n0.0\n0.0\n0.0\n0.0\n0.0\n0.0\n0.0\n0.0\n0.0\n0.0\n0.0\n0.0\n0.0\n0.0\n0.0\n0.0\n0.0\n0.0\n0.0\n0.0\n0.0\n0.0\n0.0\n0.0\n0.0\n0.0\n0.0\n0.0\n0.0\n0.0\n0.0\n0.0\n0.0\n0.0\n0.0\n0.0\n0.0\n0.0\n0.0\n0.0\n0.0\n0.0\n0.0\n0.0\n0.0\n0.0\n0.0\n0.0\n0.0\n0.0\n0.0\n0.0\n0.0\n0.0\n0.0\n0.0\n0.0\n0.0\n0.0\n0.0\n0.0\n0.0\n0.0\n0.0\n"
     ]
    }
   ],
   "source": [
    "# Function to generate mean vector for n payloads\n",
    "# Assuming data set has traffic of n packets\n",
    "# Return a list of length 255 with mean for every 255 features from payload vectors\n",
    "# x' = [2.3, 3.1, 2.23, 7.5, 12.2,  ....]\n",
    "\n",
    "\n",
    "def calc_mean(frequency_vectors):\n",
    "    return np.mean(frequency_vectors, axis=0)\n",
    "\n",
    "\n",
    "features_mean = calc_mean(features_frequency)\n"
   ]
  },
  {
   "cell_type": "code",
   "execution_count": 11,
   "metadata": {
    "collapsed": true
   },
   "outputs": [
    {
     "name": "stdout",
     "output_type": "stream",
     "text": [
      "0.10455768859987938\n0.01098367819302445\n0.006383148583841991\n0.005339160200536845\n0.0047624185427026676\n0.0029846853654069802\n0.002743298446938757\n0.0026534564490624203\n0.0022841380316715853\n0.002115370617497743\n0.0016624616382583028\n0.0014812181354289485\n0.0013743141260122303\n0.0010702712346511523\n0.0010256431472531154\n0.0009536531369257867\n0.0008929515519591419\n0.0008529953249946643\n0.0008093897291523206\n0.0007715308350351004\n0.0006927332983509898\n0.0006741828505504683\n0.0006085870864172058\n0.000529991494068448\n0.0005027194477562227\n0.0004508463752157913\n0.00037956849866168204\n0.0003499295537917691\n0.00024904477196630595\n0.00022221487897273895\n0.0002175040000459425\n0.00015688526368854135\n0.00013026931284706116\n0.00012567617668127155\n0.00012057970031200058\n9.678731453538436e-05\n5.139558656946477e-05\n4.414525479325747e-05\n4.3589251092671956e-05\n3.3538974319851636e-05\n1.1601350368352984e-05\n9.873442116561496e-06\n1.0098484929645552e-06\n4.0703821930601057e-10\n9.41409781122703e-18\n1.6103077441312024e-18\n1.1995597288575478e-18\n6.702522226894179e-19\n5.919811462216778e-19\n5.143279607737846e-19\n4.824767534620672e-19\n4.769869241807553e-19\n2.680244722025699e-19\n2.378907878112086e-19\n2.3234399867001793e-19\n2.3170769415491913e-19\n2.1627498432824467e-19\n1.857131459545927e-19\n1.7343902985345956e-19\n1.7154391792579509e-19\n1.4041973653636618e-19\n1.2229122121083965e-19\n9.718263365039559e-20\n9.696987679818776e-20\n8.978978939435913e-20\n8.787379287157953e-20\n8.720410692253778e-20\n8.498103805603037e-20\n8.138031751690003e-20\n6.391967099015943e-20\n6.110769414471431e-20\n5.48373523487992e-20\n4.6657736457654985e-20\n4.1054653135752886e-20\n3.9864578607117955e-20\n3.891444737549043e-20\n3.837721443439945e-20\n3.196000521992615e-20\n2.2154390809490902e-20\n2.0303827311891293e-20\n1.2808084712996606e-20\n1.0664635816357112e-20\n9.430923662046644e-21\n8.609143579968248e-21\n8.519962157645991e-21\n4.889920577250554e-21\n0.0\n0.0\n0.0\n0.0\n0.0\n0.0\n0.0\n0.0\n0.0\n0.0\n0.0\n0.0\n0.0\n0.0\n0.0\n0.0\n0.0\n0.0\n0.0\n0.0\n0.0\n0.0\n0.0\n0.0\n0.0\n0.0\n0.0\n0.0\n0.0\n0.0\n0.0\n0.0\n0.0\n0.0\n0.0\n0.0\n0.0\n0.0\n0.0\n0.0\n0.0\n0.0\n0.0\n0.0\n0.0\n0.0\n0.0\n0.0\n0.0\n0.0\n0.0\n0.0\n0.0\n0.0\n0.0\n0.0\n0.0\n0.0\n0.0\n0.0\n0.0\n0.0\n0.0\n0.0\n0.0\n0.0\n0.0\n0.0\n0.0\n0.0\n0.0\n0.0\n0.0\n0.0\n0.0\n0.0\n0.0\n0.0\n0.0\n0.0\n0.0\n0.0\n0.0\n0.0\n0.0\n0.0\n0.0\n0.0\n0.0\n0.0\n0.0\n0.0\n0.0\n0.0\n0.0\n0.0\n0.0\n0.0\n0.0\n0.0\n0.0\n0.0\n0.0\n0.0\n0.0\n0.0\n0.0\n0.0\n0.0\n0.0\n0.0\n0.0\n0.0\n0.0\n0.0\n0.0\n0.0\n0.0\n0.0\n0.0\n0.0\n0.0\n0.0\n0.0\n0.0\n0.0\n0.0\n0.0\n0.0\n0.0\n0.0\n0.0\n0.0\n0.0\n0.0\n0.0\n0.0\n0.0\n0.0\n0.0\n0.0\n0.0\n0.0\n0.0\n0.0\n0.0\n0.0\n0.0\n0.0\n0.0\n0.0\n0.0\n0.0\n0.0\n0.0\n0.0\n0.0\n0.0\n0.0\n0.0\n0.0\n0.0\n0.0\n0.0\n0.0\n0.0\n0.0\n0.0\n0.0\n"
     ]
    }
   ],
   "source": [
    "# Function to generate sample covariance matrix n-1\n",
    "# Assuming data set has traffic of n packets\n",
    "# Return a covariance matrix for given frequency vectors\n",
    "\n",
    "\n",
    "def calc_cov_mat():\n",
    "    mean_shift = np.transpose(np.subtract(features_frequency, features_mean))    \n",
    "    return np.cov(mean_shift), mean_shift\n",
    "\n",
    "\n",
    "cov_mat, mean_shift = calc_cov_mat()\n"
   ]
  },
  {
   "cell_type": "code",
   "execution_count": 19,
   "metadata": {
    "collapsed": true
   },
   "outputs": [
    {
     "name": "stdout",
     "output_type": "stream",
     "text": [
      "0.10455768859987938\n0.01098367819302445\n0.006383148583841991\n0.005339160200536845\n0.0047624185427026676\n0.0029846853654069802\n0.002743298446938757\n0.0026534564490624203\n0.0022841380316715853\n0.002115370617497743\n0.0016624616382583028\n0.0014812181354289485\n0.0013743141260122303\n0.0010702712346511523\n0.0010256431472531154\n0.0009536531369257867\n0.0008929515519591419\n0.0008529953249946643\n0.0008093897291523206\n0.0007715308350351004\n0.0006927332983509898\n0.0006741828505504683\n0.0006085870864172058\n0.000529991494068448\n0.0005027194477562227\n0.0004508463752157913\n0.00037956849866168204\n0.0003499295537917691\n0.00024904477196630595\n0.00022221487897273895\n0.0002175040000459425\n0.00015688526368854135\n0.00013026931284706116\n0.00012567617668127155\n0.00012057970031200058\n9.678731453538436e-05\n5.139558656946477e-05\n4.414525479325747e-05\n4.3589251092671956e-05\n3.3538974319851636e-05\n1.1601350368352984e-05\n9.873442116561496e-06\n1.0098484929645552e-06\n4.0703821930601057e-10\n9.41409781122703e-18\n1.6103077441312024e-18\n1.1995597288575478e-18\n6.702522226894179e-19\n5.919811462216778e-19\n5.143279607737846e-19\n4.824767534620672e-19\n4.769869241807553e-19\n2.680244722025699e-19\n2.378907878112086e-19\n2.3234399867001793e-19\n2.3170769415491913e-19\n2.1627498432824467e-19\n1.857131459545927e-19\n1.7343902985345956e-19\n1.7154391792579509e-19\n1.4041973653636618e-19\n1.2229122121083965e-19\n9.718263365039559e-20\n9.696987679818776e-20\n8.978978939435913e-20\n8.787379287157953e-20\n8.720410692253778e-20\n8.498103805603037e-20\n8.138031751690003e-20\n6.391967099015943e-20\n6.110769414471431e-20\n5.48373523487992e-20\n4.6657736457654985e-20\n4.1054653135752886e-20\n3.9864578607117955e-20\n3.891444737549043e-20\n3.837721443439945e-20\n3.196000521992615e-20\n2.2154390809490902e-20\n2.0303827311891293e-20\n1.2808084712996606e-20\n1.0664635816357112e-20\n9.430923662046644e-21\n8.609143579968248e-21\n8.519962157645991e-21\n4.889920577250554e-21\n0.0\n0.0\n0.0\n0.0\n0.0\n0.0\n0.0\n0.0\n0.0\n0.0\n0.0\n0.0\n0.0\n0.0\n0.0\n0.0\n0.0\n0.0\n0.0\n0.0\n0.0\n0.0\n0.0\n0.0\n0.0\n0.0\n0.0\n0.0\n0.0\n0.0\n0.0\n0.0\n0.0\n0.0\n0.0\n0.0\n0.0\n0.0\n0.0\n0.0\n0.0\n0.0\n0.0\n0.0\n0.0\n0.0\n0.0\n0.0\n0.0\n0.0\n0.0\n0.0\n0.0\n0.0\n0.0\n0.0\n0.0\n0.0\n0.0\n0.0\n0.0\n0.0\n0.0\n0.0\n0.0\n0.0\n0.0\n0.0\n0.0\n0.0\n0.0\n0.0\n0.0\n0.0\n0.0\n0.0\n0.0\n0.0\n0.0\n0.0\n0.0\n0.0\n0.0\n0.0\n0.0\n0.0\n0.0\n0.0\n0.0\n0.0\n0.0\n0.0\n0.0\n0.0\n0.0\n0.0\n0.0\n0.0\n0.0\n0.0\n0.0\n0.0\n0.0\n0.0\n0.0\n0.0\n0.0\n0.0\n0.0\n0.0\n0.0\n0.0\n0.0\n0.0\n0.0\n0.0\n0.0\n0.0\n0.0\n0.0\n0.0\n0.0\n0.0\n0.0\n0.0\n0.0\n0.0\n0.0\n0.0\n0.0\n0.0\n0.0\n0.0\n0.0\n0.0\n0.0\n0.0\n0.0\n0.0\n0.0\n0.0\n0.0\n0.0\n0.0\n0.0\n0.0\n0.0\n0.0\n0.0\n0.0\n0.0\n0.0\n0.0\n0.0\n0.0\n0.0\n0.0\n0.0\n0.0\n0.0\n0.0\n0.0\n0.0\n0.0\n0.0\n0.0\n0.0\n0.0\n0.0\n"
     ]
    }
   ],
   "source": [
    "eig_val, eig_vec = np.linalg.eigh(cov_mat)\n",
    "eig_pairs = [(np.abs(eig_val[x]), eig_vec[:,x]) for x in range(len(eig_val))]\n"
   ]
  },
  {
   "cell_type": "code",
   "execution_count": 20,
   "metadata": {
    "collapsed": true
   },
   "outputs": [
    {
     "name": "stdout",
     "output_type": "stream",
     "text": [
      "0.10455768859987938\n0.01098367819302445\n0.006383148583841991\n0.005339160200536845\n0.0047624185427026676\n0.0029846853654069802\n0.002743298446938757\n0.0026534564490624203\n0.0022841380316715853\n0.002115370617497743\n0.0016624616382583028\n0.0014812181354289485\n0.0013743141260122303\n0.0010702712346511523\n0.0010256431472531154\n0.0009536531369257867\n0.0008929515519591419\n0.0008529953249946643\n0.0008093897291523206\n0.0007715308350351004\n0.0006927332983509898\n0.0006741828505504683\n0.0006085870864172058\n0.000529991494068448\n0.0005027194477562227\n0.0004508463752157913\n0.00037956849866168204\n0.0003499295537917691\n0.00024904477196630595\n0.00022221487897273895\n0.0002175040000459425\n0.00015688526368854135\n0.00013026931284706116\n0.00012567617668127155\n0.00012057970031200058\n9.678731453538436e-05\n5.139558656946477e-05\n4.414525479325747e-05\n4.3589251092671956e-05\n3.3538974319851636e-05\n1.1601350368352984e-05\n9.873442116561496e-06\n1.0098484929645552e-06\n4.0703821930601057e-10\n9.41409781122703e-18\n1.6103077441312024e-18\n1.1995597288575478e-18\n6.702522226894179e-19\n5.919811462216778e-19\n5.143279607737846e-19\n4.824767534620672e-19\n4.769869241807553e-19\n2.680244722025699e-19\n2.378907878112086e-19\n2.3234399867001793e-19\n2.3170769415491913e-19\n2.1627498432824467e-19\n1.857131459545927e-19\n1.7343902985345956e-19\n1.7154391792579509e-19\n1.4041973653636618e-19\n1.2229122121083965e-19\n9.718263365039559e-20\n9.696987679818776e-20\n8.978978939435913e-20\n8.787379287157953e-20\n8.720410692253778e-20\n8.498103805603037e-20\n8.138031751690003e-20\n6.391967099015943e-20\n6.110769414471431e-20\n5.48373523487992e-20\n4.6657736457654985e-20\n4.1054653135752886e-20\n3.9864578607117955e-20\n3.891444737549043e-20\n3.837721443439945e-20\n3.196000521992615e-20\n2.2154390809490902e-20\n2.0303827311891293e-20\n1.2808084712996606e-20\n1.0664635816357112e-20\n9.430923662046644e-21\n8.609143579968248e-21\n8.519962157645991e-21\n4.889920577250554e-21\n0.0\n0.0\n0.0\n0.0\n0.0\n0.0\n0.0\n0.0\n0.0\n0.0\n0.0\n0.0\n0.0\n0.0\n0.0\n0.0\n0.0\n0.0\n0.0\n0.0\n0.0\n0.0\n0.0\n0.0\n0.0\n0.0\n0.0\n0.0\n0.0\n0.0\n0.0\n0.0\n0.0\n0.0\n0.0\n0.0\n0.0\n0.0\n0.0\n0.0\n0.0\n0.0\n0.0\n0.0\n0.0\n0.0\n0.0\n0.0\n0.0\n0.0\n0.0\n0.0\n0.0\n0.0\n0.0\n0.0\n0.0\n0.0\n0.0\n0.0\n0.0\n0.0\n0.0\n0.0\n0.0\n0.0\n0.0\n0.0\n0.0\n0.0\n0.0\n0.0\n0.0\n0.0\n0.0\n0.0\n0.0\n0.0\n0.0\n0.0\n0.0\n0.0\n0.0\n0.0\n0.0\n0.0\n0.0\n0.0\n0.0\n0.0\n0.0\n0.0\n0.0\n0.0\n0.0\n0.0\n0.0\n0.0\n0.0\n0.0\n0.0\n0.0\n0.0\n0.0\n0.0\n0.0\n0.0\n0.0\n0.0\n0.0\n0.0\n0.0\n0.0\n0.0\n0.0\n0.0\n0.0\n0.0\n0.0\n0.0\n0.0\n0.0\n0.0\n0.0\n0.0\n0.0\n0.0\n0.0\n0.0\n0.0\n0.0\n0.0\n0.0\n0.0\n0.0\n0.0\n0.0\n0.0\n0.0\n0.0\n0.0\n0.0\n0.0\n0.0\n0.0\n0.0\n0.0\n0.0\n0.0\n0.0\n0.0\n0.0\n0.0\n0.0\n0.0\n0.0\n0.0\n0.0\n0.0\n0.0\n0.0\n0.0\n0.0\n0.0\n0.0\n0.0\n0.0\n0.0\n0.0\n"
     ]
    }
   ],
   "source": [
    "# Sort eig_pairs if need be\n",
    "eig_pairs.sort(key=lambda x: x[0], reverse=True)\n",
    "for i in eig_pairs:\n",
    "    print(i[0])\n"
   ]
  },
  {
   "cell_type": "code",
   "execution_count": 17,
   "metadata": {
    "collapsed": true
   },
   "outputs": [
    {
     "name": "stdout",
     "output_type": "stream",
     "text": [
      "0.10455768859987938\n0.01098367819302445\n0.006383148583841991\n0.005339160200536845\n0.0047624185427026676\n0.0029846853654069802\n0.002743298446938757\n0.0026534564490624203\n0.0022841380316715853\n0.002115370617497743\n0.0016624616382583028\n0.0014812181354289485\n0.0013743141260122303\n0.0010702712346511523\n0.0010256431472531154\n0.0009536531369257867\n0.0008929515519591419\n0.0008529953249946643\n0.0008093897291523206\n0.0007715308350351004\n0.0006927332983509898\n0.0006741828505504683\n0.0006085870864172058\n0.000529991494068448\n0.0005027194477562227\n0.0004508463752157913\n0.00037956849866168204\n0.0003499295537917691\n0.00024904477196630595\n0.00022221487897273895\n0.0002175040000459425\n0.00015688526368854135\n0.00013026931284706116\n0.00012567617668127155\n0.00012057970031200058\n9.678731453538436e-05\n5.139558656946477e-05\n4.414525479325747e-05\n4.3589251092671956e-05\n3.3538974319851636e-05\n1.1601350368352984e-05\n9.873442116561496e-06\n1.0098484929645552e-06\n4.0703821930601057e-10\n9.41409781122703e-18\n1.6103077441312024e-18\n1.1995597288575478e-18\n6.702522226894179e-19\n5.919811462216778e-19\n5.143279607737846e-19\n4.824767534620672e-19\n4.769869241807553e-19\n2.680244722025699e-19\n2.378907878112086e-19\n2.3234399867001793e-19\n2.3170769415491913e-19\n2.1627498432824467e-19\n1.857131459545927e-19\n1.7343902985345956e-19\n1.7154391792579509e-19\n1.4041973653636618e-19\n1.2229122121083965e-19\n9.718263365039559e-20\n9.696987679818776e-20\n8.978978939435913e-20\n8.787379287157953e-20\n8.720410692253778e-20\n8.498103805603037e-20\n8.138031751690003e-20\n6.391967099015943e-20\n6.110769414471431e-20\n5.48373523487992e-20\n4.6657736457654985e-20\n4.1054653135752886e-20\n3.9864578607117955e-20\n3.891444737549043e-20\n3.837721443439945e-20\n3.196000521992615e-20\n2.2154390809490902e-20\n2.0303827311891293e-20\n1.2808084712996606e-20\n1.0664635816357112e-20\n9.430923662046644e-21\n8.609143579968248e-21\n8.519962157645991e-21\n4.889920577250554e-21\n0.0\n0.0\n0.0\n0.0\n0.0\n0.0\n0.0\n0.0\n0.0\n0.0\n0.0\n0.0\n0.0\n0.0\n0.0\n0.0\n0.0\n0.0\n0.0\n0.0\n0.0\n0.0\n0.0\n0.0\n0.0\n0.0\n0.0\n0.0\n0.0\n0.0\n0.0\n0.0\n0.0\n0.0\n0.0\n0.0\n0.0\n0.0\n0.0\n0.0\n0.0\n0.0\n0.0\n0.0\n0.0\n0.0\n0.0\n0.0\n0.0\n0.0\n0.0\n0.0\n0.0\n0.0\n0.0\n0.0\n0.0\n0.0\n0.0\n0.0\n0.0\n0.0\n0.0\n0.0\n0.0\n0.0\n0.0\n0.0\n0.0\n0.0\n0.0\n0.0\n0.0\n0.0\n0.0\n0.0\n0.0\n0.0\n0.0\n0.0\n0.0\n0.0\n0.0\n0.0\n0.0\n0.0\n0.0\n0.0\n0.0\n0.0\n0.0\n0.0\n0.0\n0.0\n0.0\n0.0\n0.0\n0.0\n0.0\n0.0\n0.0\n0.0\n0.0\n0.0\n0.0\n0.0\n0.0\n0.0\n0.0\n0.0\n0.0\n0.0\n0.0\n0.0\n0.0\n0.0\n0.0\n0.0\n0.0\n0.0\n0.0\n0.0\n0.0\n0.0\n0.0\n0.0\n0.0\n0.0\n0.0\n0.0\n0.0\n0.0\n0.0\n0.0\n0.0\n0.0\n0.0\n0.0\n0.0\n0.0\n0.0\n0.0\n0.0\n0.0\n0.0\n0.0\n0.0\n0.0\n0.0\n0.0\n0.0\n0.0\n0.0\n0.0\n0.0\n0.0\n0.0\n0.0\n0.0\n0.0\n0.0\n0.0\n0.0\n0.0\n0.0\n0.0\n0.0\n0.0\n0.0\n"
     ]
    }
   ],
   "source": [
    "def scatter_plot_data():\n",
    "    idx = np.argsort(eig_val)[::-1]\n",
    "    evecs = eig_vec[:,idx]\n",
    "    evecs = evecs[:, :2]\n",
    "    \n",
    "    data_resc = np.dot(evecs.T, mean_shift).T\n",
    "    \n",
    "    # scatter plot for data correlation\n",
    "    clr1 = '#2026B2'\n",
    "    fig2 = plt.figure(figsize=(20, 20))\n",
    "    ax1 = fig2.add_subplot(111)\n",
    "    ax1.plot(data_resc[:, 0], data_resc[:, 1], '.', mfc=clr1, mec=clr1)\n",
    "    plt.show()\n",
    "\n",
    "\n",
    "scatter_plot_data()\n"
   ]
  },
  {
   "cell_type": "heading",
   "metadata": {
    "collapsed": true
   },
   "level": 1,
   "source": [
    "Tier 2"
   ]
  },
  {
   "cell_type": "heading",
   "metadata": {
    "collapsed": true
   },
   "level": 1,
   "source": [
    "Cumulative Energy Test via Eig Vals and Vecs"
   ]
  },
  {
   "cell_type": "code",
   "execution_count": 18,
   "metadata": {
    "collapsed": true
   },
   "outputs": [
    {
     "name": "stdout",
     "output_type": "stream",
     "text": [
      "Current Sum: 0.104558, Curr cumsum: 64.897435, Diff: 0.104558\nCurrent Sum: 0.115541, Curr cumsum: 71.714844, Diff: 0.010984\nCurrent Sum: 0.121925, Curr cumsum: 75.676772, Diff: 0.006383\nCurrent Sum: 0.127264, Curr cumsum: 78.990711, Diff: 0.005339\nCurrent Sum: 0.132026, Curr cumsum: 81.946675, Diff: 0.004762\nCurrent Sum: 0.135011, Curr cumsum: 83.799225, Diff: 0.002985\nCurrent Sum: 0.137754, Curr cumsum: 85.501951, Diff: 0.002743\nCurrent Sum: 0.140408, Curr cumsum: 87.148913, Diff: 0.002653\nCurrent Sum: 0.142692, Curr cumsum: 88.566644, Diff: 0.002284\nCurrent Sum: 0.144807, Curr cumsum: 89.879624, Diff: 0.002115\nCurrent Sum: 0.146470, Curr cumsum: 90.911489, Diff: 0.001662\nCurrent Sum: 0.147951, Curr cumsum: 91.830860, Diff: 0.001481\nCurrent Sum: 0.149325, Curr cumsum: 92.683877, Diff: 0.001374\nCurrent Sum: 0.150395, Curr cumsum: 93.348178, Diff: 0.001070\nCurrent Sum: 0.151421, Curr cumsum: 93.984780, Diff: 0.001026\nCurrent Sum: 0.152375, Curr cumsum: 94.576699, Diff: 0.000954\nCurrent Sum: 0.153268, Curr cumsum: 95.130941, Diff: 0.000893\nCurrent Sum: 0.154121, Curr cumsum: 95.660383, Diff: 0.000853\nCurrent Sum: 0.154930, Curr cumsum: 96.162759, Diff: 0.000809\nCurrent Sum: 0.155701, Curr cumsum: 96.641637, Diff: 0.000772\nCurrent Sum: 0.156394, Curr cumsum: 97.071606, Diff: 0.000693\nCurrent Sum: 0.157068, Curr cumsum: 97.490062, Diff: 0.000674\nCurrent Sum: 0.157677, Curr cumsum: 97.867803, Diff: 0.000609\nCurrent Sum: 0.158207, Curr cumsum: 98.196761, Diff: 0.000530\nCurrent Sum: 0.158710, Curr cumsum: 98.508792, Diff: 0.000503\nCurrent Sum: 0.159161, Curr cumsum: 98.788626, Diff: 0.000451\nCurrent Sum: 0.159540, Curr cumsum: 99.024218, Diff: 0.000380\nCurrent Sum: 0.159890, Curr cumsum: 99.241414, Diff: 0.000350\nCurrent Sum: 0.160139, Curr cumsum: 99.395993, Diff: 0.000249\nCurrent Sum: 0.160361, Curr cumsum: 99.533918, Diff: 0.000222\nCurrent Sum: 0.160579, Curr cumsum: 99.668920, Diff: 0.000218\nCurrent Sum: 0.160736, Curr cumsum: 99.766296, Diff: 0.000157\nCurrent Sum: 0.160866, Curr cumsum: 99.847153, Diff: 0.000130\n"
     ]
    },
    {
     "data": {
      "text/plain": [
       "(33, 99.84715256202634)"
      ]
     },
     "execution_count": 21,
     "metadata": {},
     "output_type": "execute_result"
    }
   ],
   "source": [
    "# Function to sum eigen vals which is equal to the cumulative energy\n",
    "# Takes into account for a range of eigen values to count for\n",
    "# Returns a single number representing the sum\n",
    "\n",
    "\n",
    "def sum_cumulative_energy(pairs):\n",
    "    THRESHOLD = 100e-6\n",
    "    sum = 0\n",
    "    for x in pairs:\n",
    "        sum += x[0] if x[0] > THRESHOLD else 0\n",
    "    return sum\n",
    "\n",
    "\n",
    "cumulative_sum = sum_cumulative_energy(eig_pairs)\n",
    "cumulative_sum\n"
   ]
  },
  {
   "cell_type": "code",
   "execution_count": 21,
   "metadata": {
    "collapsed": true
   },
   "outputs": [
    {
     "name": "stdout",
     "output_type": "stream",
     "text": [
      "Current Sum: 0.104558, Curr cumsum: 64.897435, Diff: 0.104558\nCurrent Sum: 0.115541, Curr cumsum: 71.714844, Diff: 0.010984\nCurrent Sum: 0.121925, Curr cumsum: 75.676772, Diff: 0.006383\nCurrent Sum: 0.127264, Curr cumsum: 78.990711, Diff: 0.005339\nCurrent Sum: 0.132026, Curr cumsum: 81.946675, Diff: 0.004762\nCurrent Sum: 0.135011, Curr cumsum: 83.799225, Diff: 0.002985\nCurrent Sum: 0.137754, Curr cumsum: 85.501951, Diff: 0.002743\nCurrent Sum: 0.140408, Curr cumsum: 87.148913, Diff: 0.002653\nCurrent Sum: 0.142692, Curr cumsum: 88.566644, Diff: 0.002284\nCurrent Sum: 0.144807, Curr cumsum: 89.879624, Diff: 0.002115\nCurrent Sum: 0.146470, Curr cumsum: 90.911489, Diff: 0.001662\nCurrent Sum: 0.147951, Curr cumsum: 91.830860, Diff: 0.001481\nCurrent Sum: 0.149325, Curr cumsum: 92.683877, Diff: 0.001374\nCurrent Sum: 0.150395, Curr cumsum: 93.348178, Diff: 0.001070\nCurrent Sum: 0.151421, Curr cumsum: 93.984780, Diff: 0.001026\nCurrent Sum: 0.152375, Curr cumsum: 94.576699, Diff: 0.000954\nCurrent Sum: 0.153268, Curr cumsum: 95.130941, Diff: 0.000893\nCurrent Sum: 0.154121, Curr cumsum: 95.660383, Diff: 0.000853\nCurrent Sum: 0.154930, Curr cumsum: 96.162759, Diff: 0.000809\nCurrent Sum: 0.155701, Curr cumsum: 96.641637, Diff: 0.000772\nCurrent Sum: 0.156394, Curr cumsum: 97.071606, Diff: 0.000693\nCurrent Sum: 0.157068, Curr cumsum: 97.490062, Diff: 0.000674\nCurrent Sum: 0.157677, Curr cumsum: 97.867803, Diff: 0.000609\nCurrent Sum: 0.158207, Curr cumsum: 98.196761, Diff: 0.000530\nCurrent Sum: 0.158710, Curr cumsum: 98.508792, Diff: 0.000503\nCurrent Sum: 0.159161, Curr cumsum: 98.788626, Diff: 0.000451\nCurrent Sum: 0.159540, Curr cumsum: 99.024218, Diff: 0.000380\nCurrent Sum: 0.159890, Curr cumsum: 99.241414, Diff: 0.000350\nCurrent Sum: 0.160139, Curr cumsum: 99.395993, Diff: 0.000249\nCurrent Sum: 0.160361, Curr cumsum: 99.533918, Diff: 0.000222\nCurrent Sum: 0.160579, Curr cumsum: 99.668920, Diff: 0.000218\nCurrent Sum: 0.160736, Curr cumsum: 99.766296, Diff: 0.000157\nCurrent Sum: 0.160866, Curr cumsum: 99.847153, Diff: 0.000130\n"
     ]
    },
    {
     "data": {
      "text/plain": [
       "(33, 99.84715256202634)"
      ]
     },
     "execution_count": 21,
     "metadata": {},
     "output_type": "execute_result"
    }
   ],
   "source": [
    "# This method goes through ordered eig_pairs and calculates cumsum\n",
    "# If diff of cumsum with previous is less than threshold 155e-6\n",
    "# It stops when cumsum is minimum to ensure maximum cumulative energy\n",
    "# and minimum PC's\n",
    "# It then returns the num of eigen values that can be used as PC\n",
    "\n",
    "\n",
    "def cumulative_constant(cumulative_sum, pairs):\n",
    "    current_sum, prev_sum, diff, curr_cumsum = 0, 0, 1, 0\n",
    "    i = 0\n",
    "    while i != len(pairs)  and diff > 155e-6:\n",
    "        prev_sum = current_sum\n",
    "        current_sum += pairs[i][0]\n",
    "        diff = current_sum - prev_sum\n",
    "        curr_cumsum = (current_sum/cumulative_sum)*100\n",
    "        print(\"Current Sum: %f, Curr cumsum: %f, Diff: %f\" % (current_sum, curr_cumsum, diff))\n",
    "        i += 1\n",
    "    return i, curr_cumsum\n",
    "\n",
    "\n",
    "num_of_PC, cumsum = cumulative_constant(cumulative_sum, eig_pairs)\n",
    "num_of_PC, cumsum"
   ]
  },
  {
   "cell_type": "heading",
   "metadata": {},
   "level": 1,
   "source": [
    "Scree Test via Sklearn PCA and bar plots"
   ]
  },
  {
   "cell_type": "code",
   "execution_count": 22,
   "metadata": {},
   "outputs": [],
   "source": [
    "# A simple line plot showing trends in PC's variances\n",
    "\n",
    "\n",
    "def simple_scree_plot(pca):\n",
    "    fig = plt.figure(figsize=(20, 20))\n",
    "    ax = fig.add_subplot()\n",
    "    ax.plot(np.cumsum(pca.explained_variance_ratio_))\n",
    "    \n",
    "    ax.set_xlabel('number of components')\n",
    "    ax.set_ylabel('cumulative explained variance')\n",
    "    \n",
    "    ax.xaxis.label.set_color('white')\n",
    "    ax.yaxis.label.set_color('white')\n",
    "    \n",
    "    ax.tick_params(axis='x', colors='white')\n",
    "    ax.tick_params(axis='y', colors='white')\n",
    "    \n",
    "    plt.show()\n"
   ]
  },
  {
   "cell_type": "code",
   "execution_count": 26,
   "metadata": {
    "collapsed": true
   },
   "outputs": [],
   "source": [
    "# A scree bar plot showing contribution of components in the data\n",
    "\n",
    "\n",
    "def scree_plot(pca):\n",
    "    \n",
    "    num_of_components = len(pca.explained_variance_ratio_)\n",
    "    index = np.arange(num_of_components)\n",
    "    values = pca.explained_variance_ratio_\n",
    "    \n",
    "    plt.figure(figsize=(20, 10))\n",
    "    ax = plt.subplot(111)\n",
    "    cumulative = np.cumsum(values)\n",
    "    \n",
    "    ax.bar(index, cumulative)\n",
    "    ax.plot(index, cumulative)\n",
    "    \n",
    "    for i in range(num_of_components):\n",
    "        ax.annotate(r'%s' % (str(values[i]*100)[:3]), (index[i], values[i]), \n",
    "                    va='bottom', ha='center', fontsize=14)\n",
    "    ax.set_xlabel('Principal component number')\n",
    "    ax.set_ylabel('Variance Explained Percentage')\n",
    "    \n",
    "    ax.xaxis.label.set_color('white')\n",
    "    ax.yaxis.label.set_color('white')\n",
    "    \n",
    "    ax.tick_params(axis='x', colors='white')\n",
    "    ax.tick_params(axis='y', colors='white')\n",
    "    \n",
    "    plt.title('Scree Plot for Payloads Frequency')\n"
   ]
  },
  {
   "cell_type": "code",
   "execution_count": 23,
   "metadata": {
    "collapsed": true
   },
   "outputs": [],
   "source": [
    "# Function to generate PCA using the features matrix\n",
    "# It uses sklearn library PCA definition\n",
    "# Returns the PCA object\n",
    "\n",
    "\n",
    "def cal_pca(features_data):\n",
    "    pca = PCA(30)\n",
    "    pca.fit_transform(features_data)\n",
    "    return pca\n",
    "\n",
    "\n",
    "pca = cal_pca(features_frequency)\n"
   ]
  },
  {
   "cell_type": "code",
   "execution_count": 24,
   "metadata": {
    "collapsed": true
   },
   "outputs": [],
   "source": [
    "simple_scree_plot(pca)\n"
   ]
  },
  {
   "cell_type": "code",
   "execution_count": 27,
   "metadata": {
    "collapsed": true
   },
   "outputs": [
    {
     "data": {
      "image/png": "[encoded data removed]",
      "text/plain": [
       "<Figure size 1440x720 with 1 Axes>"
      ]
     },
     "metadata": {},
     "output_type": "display_data"
    }
   ],
   "source": [
    "scree_plot(pca)"
   ]
  },
  {
   "cell_type": "code",
   "execution_count": null,
   "metadata": {},
   "outputs": [],
   "source": []
  }
 ],
 "metadata": {
  "kernelspec": {
   "display_name": "Python 2",
   "language": "python",
   "name": "python2"
  },
  "language_info": {
   "codemirror_mode": {
    "name": "ipython",
    "version": 2
   },
   "file_extension": ".py",
   "mimetype": "text/x-python",
   "name": "python",
   "nbconvert_exporter": "python",
   "pygments_lexer": "ipython2",
   "version": "2.7.6"
  }
 },
 "nbformat": 4,
 "nbformat_minor": 0
}
