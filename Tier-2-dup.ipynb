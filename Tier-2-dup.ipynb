{
 "cells": [
  {
   "cell_type": "code",
   "execution_count": 1,
   "metadata": {
    "collapsed": true
   },
   "outputs": [],
   "source": [
    "import numpy as np\n",
    "from sklearn.feature_extraction.text import CountVectorizer\n",
    "from sklearn.utils import shuffle\n",
    "import pandas as pd\n",
    "from sklearn.decomposition import PCA\n",
    "import matplotlib.pyplot as plt\n"
   ]
  },
  {
   "cell_type": "code",
   "execution_count": 2,
   "metadata": {},
   "outputs": [],
   "source": [
    "df = pd.read_csv('http_requests.csv', sep=',', error_bad_lines=False, index_col=False, dtype='unicode')\n",
    "df = shuffle(df)\n",
    "df['payload'] = df['payload'].fillna(0)\n",
    "df['payload'] = df['payload'].apply(lambda x: str(x))\n",
    "df.drop(columns=['index', 'method', 'url', 'protocol', 'userAgent', 'pragma', 'cacheControl', 'accept', 'acceptEncoding', 'acceptCharset', 'acceptLanguage', 'host', 'connection', 'contentLength', 'contentType', 'cookie'], inplace=True)"
   ]
  },
  {
   "cell_type": "code",
   "execution_count": 3,
   "metadata": {},
   "outputs": [],
   "source": [
    "# Function to generate a 255 dim feature vector from 'payload'\n",
    "# Return a list of length 255 with features of payloads mapped to it\n",
    "# Each list index represents an ASCII character and value represents count\n",
    "# q = [4, 5, 2, 6, 12,  ....]\n",
    "\n",
    "\n",
    "def vectorize_payload(payload):\n",
    "    vec_255 = [0]*255\n",
    "    vectorizer = CountVectorizer(analyzer='char', ngram_range=(1, 1))\n",
    "    vectorized = vectorizer.fit_transform([payload])\n",
    "    mapped = list(zip(vectorizer.get_feature_names(), vectorized.sum(0).getA1()))\n",
    "    for x in mapped:\n",
    "        vec_255[ord(x[0])] = x[1]\n",
    "    return vec_255\n"
   ]
  },
  {
   "cell_type": "code",
   "execution_count": 4,
   "metadata": {
    "collapsed": true
   },
   "outputs": [
    {
     "data": {
      "text/plain": [
       "array([list([0, 0, 0, 0, 0, 0, 0, 0, 0, 0, 0, 0, 0, 0, 0, 0, 0, 0, 0, 0, 0, 0, 0, 0, 0, 0, 0, 0, 0, 0, 0, 0, 0, 0, 0, 0, 0, 0, 0, 0, 0, 0, 0, 0, 0, 0, 0, 0, 0, 0, 0, 0, 0, 0, 0, 0, 0, 0, 0, 0, 0, 1, 0, 0, 0, 0, 0, 0, 0, 0, 0, 0, 0, 0, 0, 0, 0, 0, 0, 0, 0, 0, 0, 0, 0, 0, 0, 0, 0, 0, 0, 0, 0, 0, 0, 0, 0, 2, 0, 1, 2, 0, 0, 0, 0, 1, 0, 0, 0, 1, 0, 2, 0, 0, 0, 0, 1, 1, 0, 0, 0, 0, 1, 0, 0, 0, 0, 0, 0, 0, 0, 0, 0, 0, 0, 0, 0, 0, 0, 0, 0, 0, 0, 0, 0, 0, 0, 0, 0, 0, 0, 0, 0, 0, 0, 0, 0, 0, 0, 0, 0, 0, 0, 0, 0, 0, 0, 0, 0, 0, 0, 0, 0, 0, 0, 0, 0, 0, 0, 0, 0, 0, 0, 0, 0, 0, 0, 0, 0, 0, 0, 0, 0, 0, 0, 0, 0, 0, 0, 0, 0, 0, 0, 0, 0, 0, 0, 0, 0, 0, 0, 0, 0, 0, 0, 0, 0, 0, 0, 0, 0, 0, 0, 0, 0, 0, 0, 0, 0, 0, 0, 0, 0, 0, 0, 0, 0, 0, 0, 0, 0, 0, 0, 0, 0, 0, 0, 0, 0, 0, 0, 0, 0, 0, 0]),\n       list([0, 0, 0, 0, 0, 0, 0, 0, 0, 0, 0, 0, 0, 0, 0, 0, 0, 0, 0, 0, 0, 0, 0, 0, 0, 0, 0, 0, 0, 0, 0, 0, 0, 0, 0, 0, 0, 0, 0, 0, 0, 0, 0, 0, 0, 0, 0, 0, 0, 0, 0, 0, 0, 0, 0, 0, 0, 0, 0, 0, 0, 1, 0, 0, 0, 0, 0, 0, 0, 0, 0, 0, 0, 0, 0, 0, 0, 0, 0, 0, 0, 0, 0, 0, 0, 0, 0, 0, 0, 0, 0, 0, 0, 0, 0, 0, 0, 3, 1, 0, 0, 2, 0, 0, 0, 0, 1, 0, 1, 1, 1, 1, 0, 0, 1, 0, 0, 0, 0, 0, 0, 0, 1, 0, 0, 0, 0, 0, 0, 0, 0, 0, 0, 0, 0, 0, 0, 0, 0, 0, 0, 0, 0, 0, 0, 0, 0, 0, 0, 0, 0, 0, 0, 0, 0, 0, 0, 0, 0, 0, 0, 0, 0, 0, 0, 0, 0, 0, 0, 0, 0, 0, 0, 0, 0, 0, 0, 0, 0, 0, 0, 0, 0, 0, 0, 0, 0, 0, 0, 0, 0, 0, 0, 0, 0, 0, 0, 0, 0, 0, 0, 0, 0, 0, 0, 0, 0, 0, 0, 0, 0, 0, 0, 0, 0, 0, 0, 0, 0, 0, 0, 0, 0, 0, 0, 0, 0, 0, 0, 0, 0, 0, 0, 0, 0, 0, 0, 0, 0, 0, 0, 0, 0, 0, 0, 0, 0, 0, 0, 0, 0, 0, 0, 0, 0]),\n       list([0, 0, 0, 0, 0, 0, 0, 0, 0, 0, 0, 0, 0, 0, 0, 0, 0, 0, 0, 0, 0, 0, 0, 0, 0, 0, 0, 0, 0, 0, 0, 0, 0, 0, 0, 0, 0, 0, 0, 0, 0, 0, 0, 1, 0, 0, 0, 0, 0, 0, 0, 0, 0, 0, 0, 0, 0, 0, 0, 0, 0, 1, 0, 0, 0, 0, 0, 0, 0, 0, 0, 0, 0, 0, 0, 0, 0, 0, 0, 0, 0, 0, 0, 0, 0, 0, 0, 0, 0, 0, 0, 0, 0, 0, 0, 0, 0, 2, 0, 0, 1, 2, 0, 0, 0, 2, 0, 0, 5, 2, 1, 4, 1, 0, 1, 1, 1, 0, 0, 0, 0, 1, 0, 0, 0, 0, 0, 0, 0, 0, 0, 0, 0, 0, 0, 0, 0, 0, 0, 0, 0, 0, 0, 0, 0, 0, 0, 0, 0, 0, 0, 0, 0, 0, 0, 0, 0, 0, 0, 0, 0, 0, 0, 0, 0, 0, 0, 0, 0, 0, 0, 0, 0, 0, 0, 0, 0, 0, 0, 0, 0, 0, 0, 0, 0, 0, 0, 0, 0, 0, 0, 0, 0, 0, 0, 0, 0, 0, 0, 0, 0, 0, 0, 0, 0, 0, 0, 0, 0, 0, 0, 0, 0, 0, 0, 0, 0, 0, 0, 0, 0, 0, 0, 0, 0, 0, 0, 0, 0, 0, 0, 0, 0, 0, 0, 0, 0, 0, 0, 0, 0, 0, 0, 0, 0, 0, 0, 0, 0, 0, 0, 0, 0, 0, 0]),\n       ...,\n       list([0, 0, 0, 0, 0, 0, 0, 0, 0, 0, 0, 0, 0, 0, 0, 0, 0, 0, 0, 0, 0, 0, 0, 0, 0, 0, 0, 0, 0, 0, 0, 0, 0, 0, 0, 0, 0, 0, 0, 0, 0, 0, 0, 2, 0, 0, 0, 0, 0, 0, 0, 0, 0, 0, 0, 0, 0, 0, 0, 0, 0, 1, 0, 0, 0, 0, 0, 0, 0, 0, 0, 0, 0, 0, 0, 0, 0, 0, 0, 0, 0, 0, 0, 0, 0, 0, 0, 0, 0, 0, 0, 0, 0, 0, 0, 0, 0, 4, 0, 1, 4, 3, 0, 0, 0, 1, 1, 0, 2, 1, 1, 1, 0, 0, 1, 0, 0, 1, 2, 0, 0, 0, 0, 0, 0, 0, 0, 0, 0, 0, 0, 0, 0, 0, 0, 0, 0, 0, 0, 0, 0, 0, 0, 0, 0, 0, 0, 0, 0, 0, 0, 0, 0, 0, 0, 0, 0, 0, 0, 0, 0, 0, 0, 0, 0, 0, 0, 0, 0, 0, 0, 0, 0, 0, 0, 0, 0, 0, 0, 0, 0, 0, 0, 0, 0, 0, 0, 0, 0, 0, 0, 0, 0, 0, 0, 0, 0, 0, 0, 0, 0, 0, 0, 0, 0, 0, 0, 0, 0, 0, 0, 0, 0, 0, 0, 0, 0, 0, 0, 0, 0, 0, 0, 0, 0, 0, 0, 0, 0, 0, 0, 0, 0, 0, 0, 0, 0, 0, 0, 0, 0, 0, 0, 0, 0, 0, 0, 0, 0, 0, 0, 0, 0, 0, 0]),\n       list([0, 0, 0, 0, 0, 0, 0, 0, 0, 0, 0, 0, 0, 0, 0, 0, 0, 0, 0, 0, 0, 0, 0, 0, 0, 0, 0, 0, 0, 0, 0, 0, 0, 0, 0, 0, 0, 0, 0, 0, 0, 0, 0, 0, 0, 0, 0, 0, 1, 2, 0, 2, 1, 3, 2, 1, 2, 2, 0, 0, 0, 1, 0, 0, 0, 0, 0, 0, 0, 0, 0, 0, 0, 0, 0, 0, 0, 0, 0, 0, 0, 0, 0, 0, 0, 0, 0, 0, 0, 0, 0, 0, 0, 0, 0, 0, 0, 0, 0, 1, 0, 0, 0, 0, 0, 0, 0, 0, 0, 0, 1, 0, 0, 0, 0, 0, 1, 0, 0, 0, 0, 0, 0, 0, 0, 0, 0, 0, 0, 0, 0, 0, 0, 0, 0, 0, 0, 0, 0, 0, 0, 0, 0, 0, 0, 0, 0, 0, 0, 0, 0, 0, 0, 0, 0, 0, 0, 0, 0, 0, 0, 0, 0, 0, 0, 0, 0, 0, 0, 0, 0, 0, 0, 0, 0, 0, 0, 0, 0, 0, 0, 0, 0, 0, 0, 0, 0, 0, 0, 0, 0, 0, 0, 0, 0, 0, 0, 0, 0, 0, 0, 0, 0, 0, 0, 0, 0, 0, 0, 0, 0, 0, 0, 0, 0, 0, 0, 0, 0, 0, 0, 0, 0, 0, 0, 0, 0, 0, 0, 0, 0, 0, 0, 0, 0, 0, 0, 0, 0, 0, 0, 0, 0, 0, 0, 0, 0, 0, 0, 0, 0, 0, 0, 0, 0]),\n       list([0, 0, 0, 0, 0, 0, 0, 0, 0, 0, 0, 0, 0, 0, 0, 0, 0, 0, 0, 0, 0, 0, 0, 0, 0, 0, 0, 0, 0, 0, 0, 0, 0, 0, 0, 0, 0, 0, 0, 0, 0, 0, 0, 0, 0, 0, 0, 0, 0, 1, 0, 0, 0, 0, 0, 0, 1, 0, 0, 0, 0, 1, 0, 0, 0, 0, 0, 0, 0, 0, 0, 0, 0, 0, 0, 0, 0, 0, 0, 0, 0, 0, 0, 0, 0, 0, 0, 0, 0, 0, 0, 0, 0, 0, 0, 0, 0, 2, 0, 1, 2, 0, 0, 0, 0, 1, 0, 0, 0, 0, 1, 0, 0, 0, 0, 0, 1, 0, 0, 0, 0, 0, 0, 0, 0, 0, 0, 0, 0, 0, 0, 0, 0, 0, 0, 0, 0, 0, 0, 0, 0, 0, 0, 0, 0, 0, 0, 0, 0, 0, 0, 0, 0, 0, 0, 0, 0, 0, 0, 0, 0, 0, 0, 0, 0, 0, 0, 0, 0, 0, 0, 0, 0, 0, 0, 0, 0, 0, 0, 0, 0, 0, 0, 0, 0, 0, 0, 0, 0, 0, 0, 0, 0, 0, 0, 0, 0, 0, 0, 0, 0, 0, 0, 0, 0, 0, 0, 0, 0, 0, 0, 0, 0, 0, 0, 0, 0, 0, 0, 0, 0, 0, 0, 0, 0, 0, 0, 0, 0, 0, 0, 0, 0, 0, 0, 0, 0, 0, 0, 0, 0, 0, 0, 0, 0, 0, 0, 0, 0, 0, 0, 0, 0, 0, 0])],\n      dtype=object)"
      ]
     },
     "execution_count": 4,
     "metadata": {},
     "output_type": "execute_result"
    }
   ],
   "source": [
    "# conversion to 256 dimensional vector\n",
    "vectors = np.array(df['payload'].apply(lambda x: vectorize_payload(x)))\n",
    "vectors\n"
   ]
  },
  {
   "cell_type": "code",
   "execution_count": 5,
   "metadata": {
    "collapsed": true
   },
   "outputs": [],
   "source": [
    "# Function to generate frequency for 255 dim feature vectors\n",
    "# Return a list of length 255 with feature frequencies\n",
    "# Each list index represents an ASCII character and value represents its frequency\n",
    "# q = [0.23, 0, 0, 0.03, 0.42,  ....] = 1\n",
    "\n",
    "\n",
    "def calc_frequency(payloads_vectors):\n",
    "    features_total = 0\n",
    "    for feature in payloads_vectors:\n",
    "        features_total += feature\n",
    "    features_total *= 1.0\n",
    "    payloads_vectors = [(x/features_total) for x in payloads_vectors]\n",
    "    return np.array(payloads_vectors, dtype=np.float16)\n",
    "\n",
    "\n",
    "results = [calc_frequency(x) for x in vectors]\n",
    "features_frequency = np.vstack(results)\n",
    "del results\n"
   ]
  },
  {
   "cell_type": "code",
   "execution_count": 6,
   "metadata": {
    "collapsed": true
   },
   "outputs": [],
   "source": [
    "# Function to generate mean vector for n payloads\n",
    "# Assuming data set has traffic of n packets\n",
    "# Return a list of length 255 with mean for every 255 features from payload vectors\n",
    "# x' = [2.3, 3.1, 2.23, 7.5, 12.2,  ....]\n",
    "\n",
    "\n",
    "def calc_mean(frequency_vectors):\n",
    "    return np.mean(frequency_vectors, axis=0)\n",
    "\n",
    "\n",
    "features_mean = calc_mean(features_frequency)\n"
   ]
  },
  {
   "cell_type": "code",
   "execution_count": 7,
   "metadata": {
    "collapsed": true
   },
   "outputs": [],
   "source": [
    "# Function to generate sample covariance matrix n-1\n",
    "# Assuming data set has traffic of n packets\n",
    "# Return a covariance matrix for given frequency vectors\n",
    "\n",
    "\n",
    "def calc_cov_mat():\n",
    "    mean_shift = np.transpose(np.subtract(features_frequency, features_mean))    \n",
    "    return np.cov(mean_shift), mean_shift\n",
    "\n",
    "\n",
    "cov_mat, mean_shift = calc_cov_mat()\n"
   ]
  },
  {
   "cell_type": "code",
   "execution_count": 8,
   "metadata": {
    "collapsed": true
   },
   "outputs": [],
   "source": [
    "eig_val, eig_vec = np.linalg.eigh(cov_mat)\n",
    "eig_pairs = [(np.abs(eig_val[x]), eig_vec[:,x], x) for x in range(len(eig_val))]\n"
   ]
  },
  {
   "cell_type": "code",
   "execution_count": 15,
   "metadata": {
    "collapsed": true
   },
   "outputs": [
    {
     "data": {
      "text/plain": [
       "(0.01098373665373174,\n array([ 0.00000000e+00,  0.00000000e+00,  0.00000000e+00,  0.00000000e+00,\n         0.00000000e+00,  0.00000000e+00,  0.00000000e+00,  0.00000000e+00,\n         0.00000000e+00,  0.00000000e+00,  0.00000000e+00,  0.00000000e+00,\n         0.00000000e+00,  0.00000000e+00,  0.00000000e+00,  0.00000000e+00,\n         0.00000000e+00,  0.00000000e+00,  0.00000000e+00,  0.00000000e+00,\n         0.00000000e+00,  0.00000000e+00,  0.00000000e+00,  0.00000000e+00,\n         0.00000000e+00,  0.00000000e+00,  0.00000000e+00,  0.00000000e+00,\n         0.00000000e+00,  0.00000000e+00,  0.00000000e+00,  0.00000000e+00,\n         0.00000000e+00,  0.00000000e+00,  0.00000000e+00,  0.00000000e+00,\n         0.00000000e+00,  3.38557276e-02, -4.16333634e-16, -3.33066907e-16,\n         2.22044605e-16,  0.00000000e+00, -1.36949140e-04, -1.06714153e-02,\n         8.67361738e-19,  3.01560942e-03, -4.56887301e-03, -5.78294737e-05,\n        -8.27213763e-02,  1.85499514e-01,  2.79985302e-01,  2.09816988e-01,\n         1.65356461e-01,  1.61707757e-01,  1.43434217e-01,  1.55159687e-01,\n         1.43744415e-01,  1.40371044e-01, -5.78060306e-06,  0.00000000e+00,\n         0.00000000e+00,  1.42608784e-01,  0.00000000e+00,  0.00000000e+00,\n         0.00000000e+00,  0.00000000e+00,  0.00000000e+00,  0.00000000e+00,\n         0.00000000e+00,  0.00000000e+00,  0.00000000e+00,  0.00000000e+00,\n         0.00000000e+00,  0.00000000e+00,  0.00000000e+00,  0.00000000e+00,\n         0.00000000e+00,  0.00000000e+00,  0.00000000e+00,  0.00000000e+00,\n         0.00000000e+00,  0.00000000e+00,  0.00000000e+00,  0.00000000e+00,\n         0.00000000e+00,  0.00000000e+00,  0.00000000e+00,  0.00000000e+00,\n         0.00000000e+00,  0.00000000e+00,  0.00000000e+00,  0.00000000e+00,\n         0.00000000e+00,  0.00000000e+00,  0.00000000e+00, -3.72813389e-04,\n         0.00000000e+00, -1.39329546e-01, -1.33676489e-01,  1.46474465e-01,\n         1.71359115e-01, -3.31270555e-01, -2.27247740e-02, -1.01836441e-01,\n        -6.87784052e-03,  8.21829244e-02, -5.93967347e-03, -5.71210869e-04,\n        -4.91600761e-02, -2.03940091e-01, -6.26192735e-02, -3.50348835e-01,\n         9.81240116e-02, -1.15858533e-03, -5.00135184e-01, -1.39830512e-01,\n        -1.02221570e-01, -5.67715259e-03, -1.16506859e-02,  4.22293383e-03,\n         2.34732874e-03, -1.04411615e-03, -5.00314014e-04,  0.00000000e+00,\n         0.00000000e+00,  0.00000000e+00,  0.00000000e+00,  0.00000000e+00,\n         0.00000000e+00,  0.00000000e+00,  0.00000000e+00,  0.00000000e+00,\n         0.00000000e+00,  0.00000000e+00,  0.00000000e+00,  0.00000000e+00,\n         0.00000000e+00,  0.00000000e+00,  0.00000000e+00,  0.00000000e+00,\n         0.00000000e+00,  0.00000000e+00,  0.00000000e+00,  0.00000000e+00,\n         0.00000000e+00,  0.00000000e+00,  0.00000000e+00,  0.00000000e+00,\n         0.00000000e+00,  0.00000000e+00,  0.00000000e+00,  0.00000000e+00,\n         0.00000000e+00,  0.00000000e+00,  0.00000000e+00,  0.00000000e+00,\n         0.00000000e+00,  0.00000000e+00,  0.00000000e+00,  0.00000000e+00,\n         0.00000000e+00,  0.00000000e+00,  0.00000000e+00,  0.00000000e+00,\n         0.00000000e+00,  0.00000000e+00,  0.00000000e+00,  0.00000000e+00,\n         0.00000000e+00,  0.00000000e+00,  0.00000000e+00,  0.00000000e+00,\n         0.00000000e+00,  0.00000000e+00,  0.00000000e+00,  0.00000000e+00,\n         0.00000000e+00,  0.00000000e+00,  0.00000000e+00,  0.00000000e+00,\n         0.00000000e+00,  0.00000000e+00,  0.00000000e+00,  0.00000000e+00,\n         0.00000000e+00,  0.00000000e+00,  0.00000000e+00,  0.00000000e+00,\n         0.00000000e+00,  0.00000000e+00,  0.00000000e+00,  0.00000000e+00,\n         0.00000000e+00,  0.00000000e+00,  0.00000000e+00,  0.00000000e+00,\n         0.00000000e+00,  0.00000000e+00,  0.00000000e+00,  0.00000000e+00,\n         0.00000000e+00,  0.00000000e+00,  0.00000000e+00,  0.00000000e+00,\n         0.00000000e+00,  0.00000000e+00,  0.00000000e+00,  0.00000000e+00,\n         0.00000000e+00,  0.00000000e+00,  0.00000000e+00,  0.00000000e+00,\n         0.00000000e+00,  0.00000000e+00,  0.00000000e+00,  0.00000000e+00,\n         0.00000000e+00,  0.00000000e+00,  0.00000000e+00,  0.00000000e+00,\n         0.00000000e+00,  0.00000000e+00,  0.00000000e+00,  0.00000000e+00,\n         0.00000000e+00,  0.00000000e+00,  0.00000000e+00,  0.00000000e+00,\n         0.00000000e+00,  0.00000000e+00,  0.00000000e+00,  0.00000000e+00,\n         0.00000000e+00,  0.00000000e+00,  0.00000000e+00,  0.00000000e+00,\n         0.00000000e+00,  0.00000000e+00,  0.00000000e+00,  0.00000000e+00,\n         0.00000000e+00,  0.00000000e+00,  0.00000000e+00,  0.00000000e+00,\n         0.00000000e+00,  0.00000000e+00,  0.00000000e+00,  0.00000000e+00,\n         0.00000000e+00,  0.00000000e+00,  0.00000000e+00,  0.00000000e+00,\n         0.00000000e+00,  0.00000000e+00,  0.00000000e+00]),\n 253)"
      ]
     },
     "execution_count": 15,
     "metadata": {},
     "output_type": "execute_result"
    }
   ],
   "source": [
    "eig_pairs[1]\n",
    "\n"
   ]
  },
  {
   "cell_type": "code",
   "execution_count": 9,
   "metadata": {
    "collapsed": true
   },
   "outputs": [
    {
     "name": "stdout",
     "output_type": "stream",
     "text": [
      "0.1045576885998791\n0.010983678193024453\n0.006383148583841988\n0.005339160200536845\n0.004762418542702657\n0.0029846853654069846\n0.0027432984469387546\n0.002653456449062418\n0.0022841380316715827\n0.0021153706174977427\n0.0016624616382582991\n0.0014812181354289496\n0.0013743141260122314\n0.0010702712346511505\n0.0010256431472531146\n0.0009536531369257861\n0.0008929515519591405\n0.0008529953249946647\n0.0008093897291523201\n0.0007715308350350997\n0.0006927332983509899\n0.0006741828505504659\n0.0006085870864172124\n0.0005299914940684459\n0.0005027194477562243\n0.0004508463752157903\n0.00037956849866168345\n0.00034992955379176734\n0.00024904477196630617\n0.00022221487897273738\n0.00021750400004594232\n0.00015688526368854195\n0.0001302693128470608\n0.00012567617668127063\n0.00012057970031200031\n9.678731453538436e-05\n5.139558656946455e-05\n4.414525479325767e-05\n4.3589251092672905e-05\n3.353897431985162e-05\n1.1601350368355193e-05\n9.873442116561506e-06\n1.0098484929651515e-06\n4.0703821523122276e-10\n1.0033750273142698e-17\n9.558884814573422e-18\n3.903652144005235e-18\n2.271674888255737e-18\n1.6265717790743981e-18\n4.496086821531882e-19\n4.2419447507011103e-19\n3.833755862467443e-19\n2.430320316330651e-19\n2.1275968996888144e-19\n2.0212441923230185e-19\n1.6793923348652484e-19\n1.581696065466048e-19\n1.520990217783641e-19\n1.4159074467472168e-19\n1.3336276148880475e-19\n1.2799709615706575e-19\n1.2585624143971125e-19\n1.236720075263008e-19\n9.656633682968025e-20\n9.488166503670806e-20\n8.467591802592067e-20\n8.168828767424873e-20\n7.450816258100379e-20\n7.10539079299337e-20\n6.58865462162081e-20\n6.467841962129027e-20\n5.422463669387469e-20\n5.3536680332732933e-20\n5.160040637624047e-20\n4.876375108231552e-20\n4.1283623346983044e-20\n4.05628693001725e-20\n3.338822131783507e-20\n2.843940523401317e-20\n2.4392576403296462e-20\n1.963792176447222e-20\n1.7024658321610793e-20\n1.6918680592473043e-20\n1.082759611935154e-20\n4.068991198161295e-21\n9.91957529879931e-22\n0.0\n0.0\n0.0\n0.0\n0.0\n0.0\n0.0\n0.0\n0.0\n0.0\n0.0\n0.0\n0.0\n0.0\n0.0\n0.0\n0.0\n0.0\n0.0\n0.0\n0.0\n0.0\n0.0\n0.0\n0.0\n0.0\n0.0\n0.0\n0.0\n0.0\n0.0\n0.0\n0.0\n0.0\n0.0\n0.0\n0.0\n0.0\n0.0\n0.0\n0.0\n0.0\n0.0\n0.0\n0.0\n0.0\n0.0\n0.0\n0.0\n0.0\n0.0\n0.0\n0.0\n0.0\n0.0\n0.0\n0.0\n0.0\n0.0\n0.0\n0.0\n0.0\n0.0\n0.0\n0.0\n0.0\n0.0\n0.0\n0.0\n0.0\n0.0\n0.0\n0.0\n0.0\n0.0\n0.0\n0.0\n0.0\n0.0\n0.0\n0.0\n0.0\n0.0\n0.0\n0.0\n0.0\n0.0\n0.0\n0.0\n0.0\n0.0\n0.0\n0.0\n0.0\n0.0\n0.0\n0.0\n0.0\n0.0\n0.0\n0.0\n0.0\n0.0\n0.0\n0.0\n0.0\n0.0\n0.0\n0.0\n0.0\n0.0\n0.0\n0.0\n0.0\n0.0\n0.0\n0.0\n0.0\n0.0\n0.0\n0.0\n0.0\n0.0\n0.0\n0.0\n0.0\n0.0\n0.0\n0.0\n0.0\n0.0\n0.0\n0.0\n0.0\n0.0\n0.0\n0.0\n0.0\n0.0\n0.0\n0.0\n0.0\n0.0\n0.0\n0.0\n0.0\n0.0\n0.0\n0.0\n0.0\n0.0\n0.0\n0.0\n0.0\n0.0\n0.0\n0.0\n0.0\n0.0\n0.0\n0.0\n0.0\n0.0\n0.0\n0.0\n0.0\n0.0\n0.0\n0.0\n"
     ]
    }
   ],
   "source": [
    "# Sort eig_pairs if need be\n",
    "eig_pairs.sort(key=lambda x: x[0], reverse=True)\n",
    "for i in eig_pairs:\n",
    "    print(i[0])\n"
   ]
  },
  {
   "cell_type": "code",
   "execution_count": 17,
   "metadata": {
    "collapsed": true
   },
   "outputs": [
    {
     "name": "stdout",
     "output_type": "stream",
     "text": [
      "0.10455768859987938\n0.01098367819302445\n0.006383148583841991\n0.005339160200536845\n0.0047624185427026676\n0.0029846853654069802\n0.002743298446938757\n0.0026534564490624203\n0.0022841380316715853\n0.002115370617497743\n0.0016624616382583028\n0.0014812181354289485\n0.0013743141260122303\n0.0010702712346511523\n0.0010256431472531154\n0.0009536531369257867\n0.0008929515519591419\n0.0008529953249946643\n0.0008093897291523206\n0.0007715308350351004\n0.0006927332983509898\n0.0006741828505504683\n0.0006085870864172058\n0.000529991494068448\n0.0005027194477562227\n0.0004508463752157913\n0.00037956849866168204\n0.0003499295537917691\n0.00024904477196630595\n0.00022221487897273895\n0.0002175040000459425\n0.00015688526368854135\n0.00013026931284706116\n0.00012567617668127155\n0.00012057970031200058\n9.678731453538436e-05\n5.139558656946477e-05\n4.414525479325747e-05\n4.3589251092671956e-05\n3.3538974319851636e-05\n1.1601350368352984e-05\n9.873442116561496e-06\n1.0098484929645552e-06\n4.0703821930601057e-10\n9.41409781122703e-18\n1.6103077441312024e-18\n1.1995597288575478e-18\n6.702522226894179e-19\n5.919811462216778e-19\n5.143279607737846e-19\n4.824767534620672e-19\n4.769869241807553e-19\n2.680244722025699e-19\n2.378907878112086e-19\n2.3234399867001793e-19\n2.3170769415491913e-19\n2.1627498432824467e-19\n1.857131459545927e-19\n1.7343902985345956e-19\n1.7154391792579509e-19\n1.4041973653636618e-19\n1.2229122121083965e-19\n9.718263365039559e-20\n9.696987679818776e-20\n8.978978939435913e-20\n8.787379287157953e-20\n8.720410692253778e-20\n8.498103805603037e-20\n8.138031751690003e-20\n6.391967099015943e-20\n6.110769414471431e-20\n5.48373523487992e-20\n4.6657736457654985e-20\n4.1054653135752886e-20\n3.9864578607117955e-20\n3.891444737549043e-20\n3.837721443439945e-20\n3.196000521992615e-20\n2.2154390809490902e-20\n2.0303827311891293e-20\n1.2808084712996606e-20\n1.0664635816357112e-20\n9.430923662046644e-21\n8.609143579968248e-21\n8.519962157645991e-21\n4.889920577250554e-21\n0.0\n0.0\n0.0\n0.0\n0.0\n0.0\n0.0\n0.0\n0.0\n0.0\n0.0\n0.0\n0.0\n0.0\n0.0\n0.0\n0.0\n0.0\n0.0\n0.0\n0.0\n0.0\n0.0\n0.0\n0.0\n0.0\n0.0\n0.0\n0.0\n0.0\n0.0\n0.0\n0.0\n0.0\n0.0\n0.0\n0.0\n0.0\n0.0\n0.0\n0.0\n0.0\n0.0\n0.0\n0.0\n0.0\n0.0\n0.0\n0.0\n0.0\n0.0\n0.0\n0.0\n0.0\n0.0\n0.0\n0.0\n0.0\n0.0\n0.0\n0.0\n0.0\n0.0\n0.0\n0.0\n0.0\n0.0\n0.0\n0.0\n0.0\n0.0\n0.0\n0.0\n0.0\n0.0\n0.0\n0.0\n0.0\n0.0\n0.0\n0.0\n0.0\n0.0\n0.0\n0.0\n0.0\n0.0\n0.0\n0.0\n0.0\n0.0\n0.0\n0.0\n0.0\n0.0\n0.0\n0.0\n0.0\n0.0\n0.0\n0.0\n0.0\n0.0\n0.0\n0.0\n0.0\n0.0\n0.0\n0.0\n0.0\n0.0\n0.0\n0.0\n0.0\n0.0\n0.0\n0.0\n0.0\n0.0\n0.0\n0.0\n0.0\n0.0\n0.0\n0.0\n0.0\n0.0\n0.0\n0.0\n0.0\n0.0\n0.0\n0.0\n0.0\n0.0\n0.0\n0.0\n0.0\n0.0\n0.0\n0.0\n0.0\n0.0\n0.0\n0.0\n0.0\n0.0\n0.0\n0.0\n0.0\n0.0\n0.0\n0.0\n0.0\n0.0\n0.0\n0.0\n0.0\n0.0\n0.0\n0.0\n0.0\n0.0\n0.0\n0.0\n0.0\n0.0\n0.0\n0.0\n"
     ]
    }
   ],
   "source": [
    "def scatter_plot_data():\n",
    "    idx = np.argsort(eig_val)[::-1]\n",
    "    evecs = eig_vec[:,idx]\n",
    "    evecs = evecs[:, :2]\n",
    "    \n",
    "    data_resc = np.dot(evecs.T, mean_shift).T\n",
    "    \n",
    "    # scatter plot for data correlation\n",
    "    clr1 = '#2026B2'\n",
    "    fig2 = plt.figure(figsize=(20, 20))\n",
    "    ax1 = fig2.add_subplot(111)\n",
    "    ax1.plot(data_resc[:, 0], data_resc[:, 1], '.', mfc=clr1, mec=clr1)\n",
    "    plt.show()\n",
    "\n",
    "\n",
    "scatter_plot_data()\n"
   ]
  },
  {
   "cell_type": "heading",
   "metadata": {
    "collapsed": true
   },
   "level": 1,
   "source": [
    "Tier 2"
   ]
  },
  {
   "cell_type": "heading",
   "metadata": {
    "collapsed": true
   },
   "level": 1,
   "source": [
    "Cumulative Energy Test via Eig Vals and Vecs"
   ]
  },
  {
   "cell_type": "code",
   "execution_count": 10,
   "metadata": {
    "collapsed": true
   },
   "outputs": [
    {
     "data": {
      "text/plain": [
       "0.161112483444189"
      ]
     },
     "execution_count": 10,
     "metadata": {},
     "output_type": "execute_result"
    }
   ],
   "source": [
    "# Function to sum eigen vals which is equal to the cumulative energy\n",
    "# Takes into account for a range of eigen values to count for\n",
    "# Returns a single number representing the sum\n",
    "\n",
    "\n",
    "def sum_cumulative_energy(pairs):\n",
    "    THRESHOLD = 100e-6\n",
    "    sum = 0\n",
    "    for x in pairs:\n",
    "        sum += x[0] if x[0] > THRESHOLD else 0\n",
    "    return sum\n",
    "\n",
    "\n",
    "cumulative_sum = sum_cumulative_energy(eig_pairs)\n",
    "cumulative_sum\n"
   ]
  },
  {
   "cell_type": "code",
   "execution_count": null,
   "metadata": {
    "collapsed": true
   },
   "outputs": [],
   "source": [
    "# This method goes through ordered eig_pairs and calculates cumsum\n",
    "# If diff of cumsum with previous is less than threshold 155e-6\n",
    "# It stops when cumsum is minimum to ensure maximum cumulative energy\n",
    "# and minimum PC's\n",
    "# It then returns the num of eigen values that can be used as PC\n",
    "\n",
    "\n",
    "def cumulative_constant(cumulative_sum, pairs, cumulative_threshold=99.5):\n",
    "    current_sum, curr_cumsum = 0, 0\n",
    "    i = 0\n",
    "    pc = []\n",
    "    while i != len(pairs)-1 and curr_cumsum < cumulative_threshold:\n",
    "        # print(pairs[i][2])\n",
    "        current_sum += pairs[i][0]\n",
    "        curr_cumsum = (current_sum/cumulative_sum)*100\n",
    "        print(\"Current Sum: %f, Curr cumsum: %f\" % (current_sum, curr_cumsum))\n",
    "        pc.append(pairs[i][2])\n",
    "        i += 1\n",
    "    return i, pc\n",
    "\n",
    "\n",
    "num_of_PC, cumsum = cumulative_constant(cumulative_sum, eig_pairs)\n",
    "num_of_PC, cumsum\n"
   ]
  },
  {
   "cell_type": "code",
   "execution_count": null,
   "metadata": {
    "collapsed": true
   },
   "outputs": [],
   "source": [
    "cumulative_features_frequencies = [features_frequency[x] for x in cumsum]\n"
   ]
  },
  {
   "cell_type": "heading",
   "metadata": {},
   "level": 1,
   "source": [
    "Scree Test via Sklearn PCA and bar plots"
   ]
  },
  {
   "cell_type": "code",
   "execution_count": 10,
   "metadata": {},
   "outputs": [],
   "source": [
    "# A simple line plot showing trends in PC's variances\n",
    "\n",
    "\n",
    "def simple_scree_plot(pca):\n",
    "    fig = plt.figure(figsize=(20, 20))\n",
    "    ax = fig.add_subplot()\n",
    "    ax.plot(np.cumsum(pca.explained_variance_ratio_))\n",
    "    \n",
    "    ax.set_xlabel('number of components')\n",
    "    ax.set_ylabel('cumulative explained variance')\n",
    "    \n",
    "    ax.xaxis.label.set_color('white')\n",
    "    ax.yaxis.label.set_color('white')\n",
    "    \n",
    "    ax.tick_params(axis='x', colors='white')\n",
    "    ax.tick_params(axis='y', colors='white')\n",
    "    \n",
    "    plt.show()\n"
   ]
  },
  {
   "cell_type": "code",
   "execution_count": 11,
   "metadata": {
    "collapsed": true
   },
   "outputs": [],
   "source": [
    "# A scree bar plot showing contribution of components in the data\n",
    "\n",
    "\n",
    "def scree_plot(pca):\n",
    "    \n",
    "    num_of_components = len(pca.explained_variance_ratio_)\n",
    "    index = np.arange(num_of_components)\n",
    "    values = pca.explained_variance_ratio_\n",
    "    \n",
    "    plt.figure(figsize=(20, 10))\n",
    "    ax = plt.subplot(111)\n",
    "    cumulative = np.cumsum(values)\n",
    "    \n",
    "    ax.bar(index, cumulative)\n",
    "    ax.plot(index, cumulative)\n",
    "    \n",
    "    for i in range(num_of_components):\n",
    "        ax.annotate(r'%s' % (str(values[i]*100)[:3]), (index[i], values[i]), \n",
    "                    va='bottom', ha='center', fontsize=14)\n",
    "    ax.set_xlabel('Principal component number')\n",
    "    ax.set_ylabel('Variance Explained Percentage')\n",
    "    \n",
    "    ax.xaxis.label.set_color('white')\n",
    "    ax.yaxis.label.set_color('white')\n",
    "    \n",
    "    ax.tick_params(axis='x', colors='white')\n",
    "    ax.tick_params(axis='y', colors='white')\n",
    "    \n",
    "    plt.title('Scree Plot for Payloads Frequency')\n"
   ]
  },
  {
   "cell_type": "code",
   "execution_count": 12,
   "metadata": {
    "collapsed": true
   },
   "outputs": [],
   "source": [
    "# Function to generate PCA using the features matrix\n",
    "# It uses sklearn library PCA definition\n",
    "# Returns the PCA object\n",
    "\n",
    "\n",
    "def cal_pca(features_data):\n",
    "    pca = PCA(30)\n",
    "    pca.fit_transform(features_data)\n",
    "    return pca\n",
    "\n",
    "\n",
    "pca = cal_pca(features_frequency)\n"
   ]
  },
  {
   "cell_type": "code",
   "execution_count": 16,
   "metadata": {
    "collapsed": true
   },
   "outputs": [
    {
     "data": {
      "image/png": "[encoded data removed]",
      "text/plain": [
       "<Figure size 1440x1440 with 1 Axes>"
      ]
     },
     "metadata": {},
     "output_type": "display_data"
    }
   ],
   "source": [
    "simple_scree_plot(pca)\n"
   ]
  },
  {
   "cell_type": "code",
   "execution_count": 17,
   "metadata": {
    "collapsed": true
   },
   "outputs": [
    {
     "data": {
      "image/png": "[encoded data removed]",
      "text/plain": [
       "<Figure size 1440x720 with 1 Axes>"
      ]
     },
     "metadata": {},
     "output_type": "display_data"
    }
   ],
   "source": [
    "scree_plot(pca)"
   ]
  },
  {
   "cell_type": "code",
   "execution_count": 35,
   "metadata": {},
   "outputs": [
    {
     "name": "stdout",
     "output_type": "stream",
     "text": [
      "[0.64774086 0.06806137 0.03955261 0.03308339 0.02951143 0.0184956\n 0.01700026 0.01644267 0.01415533 0.01310933 0.01030252 0.00917864\n 0.00851618 0.00663284 0.00635574 0.00590992 0.00553291 0.00528468\n 0.00501449 0.00478037 0.00429318 0.00417784 0.00377123 0.00328421\n 0.00311554 0.00279379 0.00235193 0.0021683  0.00154337 0.00137701]\n"
     ]
    }
   ],
   "source": [
    "print(pca.explained_variance_ratio_)"
   ]
  },
  {
   "cell_type": "code",
   "execution_count": 40,
   "metadata": {},
   "outputs": [
    {
     "name": "stdout",
     "output_type": "stream",
     "text": [
      "30\n"
     ]
    }
   ],
   "source": [
    "print(len(pca.components_))"
   ]
  },
  {
   "cell_type": "code",
   "execution_count": null,
   "metadata": {},
   "outputs": [],
   "source": [
    "scores_df = pd.DataFrame(pca)\n",
    "scores_df\n"
   ]
  },
  {
   "cell_type": "code",
   "execution_count": null,
   "metadata": {},
   "outputs": [],
   "source": []
  }
 ],
 "metadata": {
  "kernelspec": {
   "display_name": "Python 2",
   "language": "python",
   "name": "python2"
  },
  "language_info": {
   "codemirror_mode": {
    "name": "ipython",
    "version": 2
   },
   "file_extension": ".py",
   "mimetype": "text/x-python",
   "name": "python",
   "nbconvert_exporter": "python",
   "pygments_lexer": "ipython2",
   "version": "2.7.6"
  }
 },
 "nbformat": 4,
 "nbformat_minor": 0
}
